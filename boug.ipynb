{
 "cells": [
  {
   "cell_type": "markdown",
   "id": "d0c5aaad",
   "metadata": {},
   "source": [
    "# Imports des json"
   ]
  },
  {
   "cell_type": "code",
   "execution_count": 1,
   "id": "75db9c13",
   "metadata": {},
   "outputs": [],
   "source": [
    "bounces_path = \"../outputs/bounces.json\"\n",
    "hits_path = \"../outputs/hits.json\"\n",
    "players_path = \"../outputs/players.json\"\n",
    "trajectories_path = \"../outputs/trajectories.json\"\n",
    "frames_path = \"../data/frames_data.json\""
   ]
  },
  {
   "cell_type": "code",
   "execution_count": 2,
   "id": "6038a428",
   "metadata": {},
   "outputs": [],
   "source": [
    "import json\n",
    "\n",
    "with open(bounces_path, 'r', encoding='utf-8') as f1:\n",
    "    bounces_data = json.load(f1)\n",
    "\n",
    "with open(hits_path, 'r', encoding='utf-8') as f2:\n",
    "    hits_data = json.load(f2)\n",
    "\n",
    "with open(players_path, 'r', encoding='utf-8') as f3:\n",
    "    players_data = json.load(f3)\n",
    "\n",
    "with open(trajectories_path, 'r', encoding='utf-8') as f4:\n",
    "    trajectories_data = json.load(f4)\n",
    "\n",
    "with open(frames_path, 'r', encoding='utf-8') as f5:\n",
    "    frames_data = json.load(f5) "
   ]
  },
  {
   "cell_type": "markdown",
   "id": "0770b65d",
   "metadata": {},
   "source": [
    "# Création de la minimap"
   ]
  },
  {
   "cell_type": "code",
   "execution_count": 3,
   "id": "d867046e",
   "metadata": {},
   "outputs": [],
   "source": [
    "from minimap import generate_minimap_video"
   ]
  },
  {
   "cell_type": "code",
   "execution_count": 4,
   "id": "d6fa9a33",
   "metadata": {},
   "outputs": [],
   "source": [
    "video_path_input = \"../data/videos/2.mp4\"\n",
    "video_path_output = \"../outputs/videos/2_boug.mp4\""
   ]
  },
  {
   "cell_type": "code",
   "execution_count": 9,
   "id": "663ef2aa",
   "metadata": {},
   "outputs": [],
   "source": [
    "generate_minimap_video(video_path_input, video_path_output, frames_data, bounces_data=bounces_data, hits_data=hits_data, players_data=players_data, trajectories_data=trajectories_data, plot_players_tail=False, width_goal=500)"
   ]
  },
  {
   "cell_type": "markdown",
   "id": "4f07d20d",
   "metadata": {},
   "source": [
    "# Création vidéo finale"
   ]
  },
  {
   "cell_type": "code",
   "execution_count": 11,
   "id": "9d24079a",
   "metadata": {},
   "outputs": [],
   "source": [
    "video_path_graph = \"../outputs/videos/players_speed_analysis.mp4\"\n",
    "video_path_table = \"../outputs/videos/table_stats.mp4\""
   ]
  },
  {
   "cell_type": "code",
   "execution_count": 17,
   "id": "3b81e399",
   "metadata": {},
   "outputs": [
    {
     "name": "stdout",
     "output_type": "stream",
     "text": [
      "✅ Vidéo écrite : /Users/elouann/Desktop/Elouann/Études/Polytechnique/Professionnel/Stages/Stage 3A/Quantum Analytics Sport/Boulot/Tennis/tennis-ai/outputs/videos/boug_final.mp4\n"
     ]
    }
   ],
   "source": [
    "import cv2\n",
    "import numpy as np\n",
    "from pathlib import Path\n",
    "\n",
    "def assemble_four_videos(\n",
    "    video1_path: str,                 # Vidéo de base (seront redim. à 1920×1080)\n",
    "    video2_path: str,                 # Clip à droite (redim. à 500×1080)\n",
    "    video3_path: str,                 # Clip sous la base, largeur variable\n",
    "    video4_path: str,                 # Clip sous vidéo2, largeur ajustée\n",
    "    output_path: str,\n",
    "    bottom_h: int = 900,              # Hauteur commune vidéos 3 & 4\n",
    "    bottom_w_left: int = 1210,        # Largeur vidéo 3\n",
    "    fourcc: str = \"avc1\",             # \"avc1\" = H.264 ; sinon \"mp4v\"\n",
    "):\n",
    "    \"\"\"\n",
    "    Crée une mosaïque :\n",
    "          [ Vidéo1 1920×1080 ] [ Vidéo2 500×1080 ]\n",
    "          [ Vidéo3 bottom_w_left×bottom_h ] [ Vidéo4 auto×bottom_h ]\n",
    "\n",
    "    • Vidéo1 et Vidéo2 conservent les dimensions fixes (1920×1080, 500×1080).\n",
    "    • Vidéo3 et Vidéo4 conservent `bottom_h` ; Vidéo3 garde width=bottom_w_left,\n",
    "      Vidéo4 prend le reste pour totaliser 2420 px de large.\n",
    "    • Pas d’audio (OpenCV ne gère pas l’audio).\n",
    "    \"\"\"\n",
    "\n",
    "    # Dimensions fixes du haut\n",
    "    TOP_H   = 1080\n",
    "    W1, W2  = 1920, 500\n",
    "    TOTAL_W = W1 + W2  # 2420 px\n",
    "\n",
    "    # Contrôles\n",
    "    if bottom_w_left <= 0 or bottom_w_left >= TOTAL_W:\n",
    "        raise ValueError(f\"bottom_w_left doit être entre 1 et {TOTAL_W-1}\")\n",
    "    if bottom_h <= 0:\n",
    "        raise ValueError(\"bottom_h doit être > 0\")\n",
    "\n",
    "    bottom_w_right = TOTAL_W - bottom_w_left\n",
    "    TOTAL_H        = TOP_H + bottom_h\n",
    "\n",
    "    # 1. Ouverture des 4 vidéos ------------------------------------------------\n",
    "    caps = [cv2.VideoCapture(p) for p in (video1_path, video2_path, video3_path, video4_path)]\n",
    "    if not all(c.isOpened() for c in caps):\n",
    "        raise FileNotFoundError(\"Au moins une vidéo ne s’ouvre pas.\")\n",
    "\n",
    "    # FPS : on prend celui de la vidéo1\n",
    "    fps = caps[0].get(cv2.CAP_PROP_FPS) or 30\n",
    "    frame_counts = [int(c.get(cv2.CAP_PROP_FRAME_COUNT)) for c in caps]\n",
    "    common_frames = min(frame_counts)          # on coupe au plus court\n",
    "\n",
    "    # 2. Préparation du VideoWriter -------------------------------------------\n",
    "    writer = cv2.VideoWriter(\n",
    "        output_path,\n",
    "        cv2.VideoWriter_fourcc(*fourcc),\n",
    "        fps,\n",
    "        (TOTAL_W, TOTAL_H),\n",
    "        isColor=True,\n",
    "    )\n",
    "\n",
    "    # 3. Boucle d’assemblage ---------------------------------------------------\n",
    "    for _ in range(common_frames):\n",
    "        rets_frames = [cap.read() for cap in caps]\n",
    "        if not all(ret for ret, _ in rets_frames):\n",
    "            break  # sécurité\n",
    "\n",
    "        f1, f2, f3, f4 = (fr for _, fr in rets_frames)\n",
    "\n",
    "        # Redimensionnements\n",
    "        f1 = cv2.resize(f1, (W1, TOP_H))\n",
    "        f2 = cv2.resize(f2, (W2, TOP_H))\n",
    "        f3 = cv2.resize(f3, (bottom_w_left,  bottom_h))\n",
    "        f4 = cv2.resize(f4, (bottom_w_right, bottom_h))\n",
    "\n",
    "        # Toile noire\n",
    "        canvas = np.zeros((TOTAL_H, TOTAL_W, 3), dtype=np.uint8)\n",
    "\n",
    "        # Placement (y, x)\n",
    "        canvas[0:TOP_H,      0:W1]               = f1              # Vidéo 1\n",
    "        canvas[0:TOP_H,      W1:TOTAL_W]         = f2              # Vidéo 2\n",
    "        canvas[TOP_H:TOTAL_H, 0:bottom_w_left]   = f3              # Vidéo 3\n",
    "        canvas[TOP_H:TOTAL_H, bottom_w_left:TOTAL_W] = f4          # Vidéo 4\n",
    "\n",
    "        writer.write(canvas)\n",
    "\n",
    "    # 4. Nettoyage -------------------------------------------------------------\n",
    "    for cap in caps:\n",
    "        cap.release()\n",
    "    writer.release()\n",
    "    print(f\"✅ Vidéo écrite : {Path(output_path).resolve()}\")\n",
    "\n",
    "# ---------------------------------------------------------------------------\n",
    "# Exemple d’usage -----------------------------------------------------------\n",
    "assemble_four_videos(\n",
    "    video1_path = video_path_input,      # 1920×1080\n",
    "    video2_path = video_path_output,     # 500×1080\n",
    "    video3_path = video_path_graph,      # largeur param.\n",
    "    video4_path = video_path_table,      # auto\n",
    "    output_path = \"../outputs/videos/boug_final.mp4\",\n",
    "    bottom_h       = 500,    # hauteur Vidéos 3 & 4\n",
    "    bottom_w_left  = 1800,   # largeur Vidéo 3\n",
    ")\n"
   ]
  },
  {
   "cell_type": "code",
   "execution_count": null,
   "id": "a3e3ba3e",
   "metadata": {},
   "outputs": [],
   "source": []
  }
 ],
 "metadata": {
  "kernelspec": {
   "display_name": ".venv",
   "language": "python",
   "name": "python3"
  },
  "language_info": {
   "codemirror_mode": {
    "name": "ipython",
    "version": 3
   },
   "file_extension": ".py",
   "mimetype": "text/x-python",
   "name": "python",
   "nbconvert_exporter": "python",
   "pygments_lexer": "ipython3",
   "version": "3.12.10"
  }
 },
 "nbformat": 4,
 "nbformat_minor": 5
}
